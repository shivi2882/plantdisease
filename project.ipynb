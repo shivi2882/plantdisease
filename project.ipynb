{
 "cells": [
  {
   "cell_type": "markdown",
   "id": "2df81715",
   "metadata": {},
   "source": [
    "### Libraries and Pre-processing -"
   ]
  },
  {
   "cell_type": "code",
   "execution_count": 49,
   "id": "ad444a36",
   "metadata": {},
   "outputs": [],
   "source": [
    "import os\n",
    "import numpy as np\n",
    "import matplotlib.pyplot as plt\n",
    "from tensorflow.keras.preprocessing import image\n",
    "from tensorflow.keras.preprocessing.image import ImageDataGenerator\n",
    "from tensorflow.keras.applications.vgg16 import VGG16, preprocess_input\n",
    "from tensorflow.keras.models import Sequential\n",
    "from tensorflow.keras.layers import Dense, Flatten"
   ]
  },
  {
   "cell_type": "code",
   "execution_count": 12,
   "id": "43e2150a",
   "metadata": {},
   "outputs": [],
   "source": [
    "batch_size = 128"
   ]
  },
  {
   "cell_type": "code",
   "execution_count": 14,
   "id": "a5ae2c8f",
   "metadata": {},
   "outputs": [],
   "source": [
    "generator_train = ImageDataGenerator(\n",
    "    rescale=1./255,\n",
    "    shear_range=0.2,\n",
    "    zoom_range=0.2,\n",
    "    width_shift_range=0.2,\n",
    "    height_shift_range=0.2,\n",
    "    fill_mode='nearest',\n",
    "    horizontal_flip=True,\n",
    "    preprocessing_function=preprocess_input)"
   ]
  },
  {
   "cell_type": "code",
   "execution_count": 15,
   "id": "fd4a6235",
   "metadata": {},
   "outputs": [],
   "source": [
    "generator_validation = ImageDataGenerator(\n",
    "    rescale=1./255,\n",
    "    preprocessing_function=preprocess_input)"
   ]
  },
  {
   "cell_type": "markdown",
   "id": "3c8c41e9",
   "metadata": {},
   "source": [
    "### Training - "
   ]
  },
  {
   "cell_type": "code",
   "execution_count": 16,
   "id": "c0ffd72f",
   "metadata": {},
   "outputs": [
    {
     "name": "stdout",
     "output_type": "stream",
     "text": [
      "Found 69008 images belonging to 38 classes.\n"
     ]
    }
   ],
   "source": [
    "training_data = generator_train.flow_from_directory(\n",
    "    'New Plant Diseases Dataset(Augmented)/New Plant Diseases Dataset(Augmented)/train',                                          \n",
    "    batch_size=batch_size,\n",
    "    class_mode='categorical',\n",
    "    target_size=(224,224))"
   ]
  },
  {
   "cell_type": "code",
   "execution_count": 17,
   "id": "e8223bd1",
   "metadata": {},
   "outputs": [
    {
     "name": "stdout",
     "output_type": "stream",
     "text": [
      "Found 17255 images belonging to 38 classes.\n"
     ]
    }
   ],
   "source": [
    "validation_data = generator_validation.flow_from_directory(\n",
    "    'New Plant Diseases Dataset(Augmented)/New Plant Diseases Dataset(Augmented)/valid',\n",
    "    shuffle=False,\n",
    "    batch_size=batch_size,\n",
    "    class_mode='categorical',\n",
    "    target_size=(224,224))"
   ]
  },
  {
   "cell_type": "markdown",
   "id": "3b89cf2c",
   "metadata": {},
   "source": [
    "### Model Building \n"
   ]
  },
  {
   "cell_type": "code",
   "execution_count": 18,
   "id": "97dab2cb",
   "metadata": {},
   "outputs": [],
   "source": [
    "initial_model=VGG16(weights='imagenet', include_top=False,input_shape=(224,224,3))\n",
    "initial_model.trainable=False"
   ]
  },
  {
   "cell_type": "code",
   "execution_count": 19,
   "id": "2031f024",
   "metadata": {},
   "outputs": [
    {
     "name": "stdout",
     "output_type": "stream",
     "text": [
      "Model: \"sequential_1\"\n",
      "_________________________________________________________________\n",
      " Layer (type)                Output Shape              Param #   \n",
      "=================================================================\n",
      " vgg16 (Functional)          (None, 7, 7, 512)         14714688  \n",
      "                                                                 \n",
      " flatten_1 (Flatten)         (None, 25088)             0         \n",
      "                                                                 \n",
      " dense_1 (Dense)             (None, 38)                953382    \n",
      "                                                                 \n",
      "=================================================================\n",
      "Total params: 15,668,070\n",
      "Trainable params: 953,382\n",
      "Non-trainable params: 14,714,688\n",
      "_________________________________________________________________\n"
     ]
    }
   ],
   "source": [
    "model=Sequential()\n",
    "model.add(initial_model)\n",
    "model.add(Flatten())\n",
    "model.add(Dense(38,activation='softmax'))\n",
    "model.summary()"
   ]
  },
  {
   "cell_type": "code",
   "execution_count": 20,
   "id": "37adc70e",
   "metadata": {},
   "outputs": [],
   "source": [
    "model.compile(optimizer='adam',\n",
    "                   loss='categorical_crossentropy',\n",
    "                   metrics=['accuracy'])"
   ]
  },
  {
   "cell_type": "code",
   "execution_count": 21,
   "id": "1226e31c",
   "metadata": {},
   "outputs": [],
   "source": [
    "train = training_data.samples\n",
    "val = validation_data.samples"
   ]
  },
  {
   "cell_type": "code",
   "execution_count": null,
   "id": "59b4d116",
   "metadata": {},
   "outputs": [],
   "source": [
    "model.fit_generator(training_data,\n",
    "                    steps_per_epoch=train//batch_size,\n",
    "                    validation_data=validation_data,\n",
    "                    epochs=5,\n",
    "                    validation_steps=val//batch_size)"
   ]
  },
  {
   "cell_type": "code",
   "execution_count": 35,
   "id": "f5ef25ab",
   "metadata": {},
   "outputs": [],
   "source": [
    "class_dict = {'Apple___Apple_scab': 0, 'Apple___Black_rot': 1, 'Apple___Cedar_apple_rust': 2, 'Apple___healthy': 3, 'Blueberry___healthy': 4, 'Cherry_(including_sour)___Powdery_mildew': 5, 'Cherry_(including_sour)___healthy': 6, 'Corn_(maize)___Cercospora_leaf_spot Gray_leaf_spot': 7, 'Corn_(maize)___Common_rust_': 8, 'Corn_(maize)___Northern_Leaf_Blight': 9, 'Corn_(maize)___healthy': 10, 'Grape___Black_rot': 11, 'Grape___Esca_(Black_Measles)': 12, 'Grape___Leaf_blight_(Isariopsis_Leaf_Spot)': 13, 'Grape___healthy': 14, 'Orange___Haunglongbing_(Citrus_greening)': 15, 'Peach___Bacterial_spot': 16, 'Peach___healthy': 17, 'Pepper,_bell___Bacterial_spot': 18, 'Pepper,_bell___healthy': 19, 'Potato___Early_blight': 20, 'Potato___Late_blight': 21, 'Potato___healthy': 22, 'Raspberry___healthy': 23, 'Soybean___healthy': 24, 'Squash___Powdery_mildew': 25, 'Strawberry___Leaf_scorch': 26, 'Strawberry___healthy': 27, 'Tomato___Bacterial_spot': 28, 'Tomato___Early_blight': 29, 'Tomato___Late_blight': 30, 'Tomato___Leaf_Mold': 31, 'Tomato___Septoria_leaf_spot': 32, 'Tomato___Spider_mites Two-spotted_spider_mite': 33, 'Tomato___Target_Spot': 34, 'Tomato___Tomato_Yellow_Leaf_Curl_Virus': 35, 'Tomato___Tomato_mosaic_virus': 36, 'Tomato___healthy': 37}\n",
    "li = list(class_dict.keys())"
   ]
  },
  {
   "cell_type": "markdown",
   "id": "437466a8",
   "metadata": {},
   "source": [
    "### Saving the model"
   ]
  },
  {
   "cell_type": "code",
   "execution_count": 56,
   "id": "a585e988",
   "metadata": {},
   "outputs": [],
   "source": [
    "model.save(\"plant_model.h5\")"
   ]
  }
 ],
 "metadata": {
  "kernelspec": {
   "display_name": "Python 3 (ipykernel)",
   "language": "python",
   "name": "python3"
  },
  "language_info": {
   "codemirror_mode": {
    "name": "ipython",
    "version": 3
   },
   "file_extension": ".py",
   "mimetype": "text/x-python",
   "name": "python",
   "nbconvert_exporter": "python",
   "pygments_lexer": "ipython3",
   "version": "3.9.6"
  }
 },
 "nbformat": 4,
 "nbformat_minor": 5
}
